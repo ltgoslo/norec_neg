{
 "cells": [
  {
   "cell_type": "code",
   "execution_count": null,
   "id": "intense-alloy",
   "metadata": {},
   "outputs": [],
   "source": [
    "import json\n",
    "import re"
   ]
  },
  {
   "cell_type": "code",
   "execution_count": null,
   "id": "dynamic-automation",
   "metadata": {},
   "outputs": [],
   "source": [
    "train_fn = \"../data/negation_train.json\"\n",
    "dev_fn = \"../data/negation_dev.json\"\n",
    "test_fn = \"../data/negation_test.json\""
   ]
  },
  {
   "cell_type": "markdown",
   "id": "periodic-executive",
   "metadata": {},
   "source": [
    "## What are the multi-word cues"
   ]
  },
  {
   "cell_type": "code",
   "execution_count": null,
   "id": "geological-timeline",
   "metadata": {},
   "outputs": [],
   "source": [
    "mwcs = set()\n",
    "for fn in [train_fn, dev_fn, test_fn]:\n",
    "    with open(fn) as fh:\n",
    "        for line in json.load(fh):\n",
    "            if len(line[\"negations\"]) > 0:\n",
    "                for neg in line[\"negations\"]:\n",
    "                    if len(neg[\"Cue\"][0]) > 1:\n",
    "                        mwcs.add(tuple(neg[\"Cue\"][0]))\n",
    "mwcs"
   ]
  },
  {
   "cell_type": "markdown",
   "id": "ethical-running",
   "metadata": {},
   "source": [
    "## Affixal Cues"
   ]
  },
  {
   "cell_type": "code",
   "execution_count": null,
   "id": "located-beijing",
   "metadata": {
    "scrolled": true
   },
   "outputs": [],
   "source": [
    "affixals = set()\n",
    "affplus = set()\n",
    "prefixes = set()\n",
    "suffixes = set()\n",
    "for fn in [train_fn, dev_fn, test_fn]:\n",
    "    with open(fn) as fh:\n",
    "        for line in json.load(fh):\n",
    "            if len(line[\"negations\"]) > 0:\n",
    "                for neg in line[\"negations\"]:\n",
    "                    if neg[\"Affixal\"]:\n",
    "                        #if neg[\"Cue\"][0][0] == \"aldri\" or neg[\"Cue\"][0][0] == \"ikke\" or neg[\"Cue\"][0][0] == \"manglende\":\n",
    "                        #    print(line)\n",
    "                        affixals.add(tuple(neg[\"Cue\"][0]))\n",
    "                        #print(neg[\"Cue\"], neg[\"Scope\"])\n",
    "                        a,b = neg[\"Cue\"][1][0].split(\":\")\n",
    "                        a = int(a)\n",
    "                        b = int(b)\n",
    "                        # print(t[a-2:b+2])\n",
    "                        if a - 1 > 0 and line[\"text\"][a - 1] != \" \":\n",
    "                            c = a -1\n",
    "                            # print(neg[\"Cue\"], neg[\"Scope\"])\n",
    "                            while c > 0 and line[\"text\"][c] != \" \":\n",
    "                                c -= 1\n",
    "                            affplus.add((neg[\"Cue\"][0][0], line[\"text\"][c:b]))\n",
    "                            suffixes.add(neg[\"Cue\"][0][0])\n",
    "                        else:\n",
    "                            c = b\n",
    "                            while c < len(line[\"text\"]) and line[\"text\"][c] != \" \":\n",
    "                                c += 1\n",
    "                            affplus.add((neg[\"Cue\"][0][0], line[\"text\"][a:c]))\n",
    "                            prefixes.add(neg[\"Cue\"][0][0])\n",
    "                        \n",
    "affixals, affplus, prefixes, suffixes"
   ]
  },
  {
   "cell_type": "code",
   "execution_count": null,
   "id": "bottom-howard",
   "metadata": {},
   "outputs": [],
   "source": [
    "prefixes, suffixes"
   ]
  },
  {
   "cell_type": "code",
   "execution_count": null,
   "id": "handmade-irish",
   "metadata": {},
   "outputs": [],
   "source": [
    "_, full_affix_negs = zip(*affplus)"
   ]
  },
  {
   "cell_type": "code",
   "execution_count": null,
   "id": "mental-opinion",
   "metadata": {},
   "outputs": [],
   "source": [
    "prefixes = ['U', 'ikke-', 'in', 'mis', 'u', 'utenom']\n",
    "suffixes = ['fri', 'frie', 'fritt', 'løs', 'løse', 'løst', 'tomme']\n",
    "\"^\" + \"|^\".join(prefixes)\n",
    "(\"$|\".join(suffixes) + \"$\")"
   ]
  },
  {
   "cell_type": "markdown",
   "id": "meaning-personality",
   "metadata": {},
   "source": [
    "### Given a list of affixes, can we safely get the root?"
   ]
  },
  {
   "cell_type": "code",
   "execution_count": null,
   "id": "billion-ottawa",
   "metadata": {},
   "outputs": [],
   "source": [
    "for aff, fan in affplus:\n",
    "    #print(aff, fan)\n",
    "    pre = re.search(re.compile(\"^\" + \"|^\".join(prefixes)), fan)\n",
    "    suf = re.search(re.compile(\"$|\".join(suffixes) + \"$\"), fan)\n",
    "    #if pre is not None and pre.group(0) == aff and suf is not None:\n",
    "    #    print(\"true prefix but also suffix: \", pre.group(0), suf.group(0), fan)\n",
    "    #if suf is not None and suf.group(0) == aff and pre is not None:\n",
    "    #    print(\"true suffix but also prefix: \", pre.group(0), suf.group(0), fan)\n",
    "    x = \"_\"\n",
    "    y = \"_\"\n",
    "    if pre:\n",
    "        x = pre.group(0)\n",
    "        span = pre.span()\n",
    "        #print(fan, span, fan[span[1]:])\n",
    "    if suf:\n",
    "        y = suf.group(0)\n",
    "    #if not (x == \"_\" or y == \"_\"):\n",
    "    print(aff, fan, x, y)"
   ]
  },
  {
   "cell_type": "markdown",
   "id": "expensive-twenty",
   "metadata": {},
   "source": [
    "#### How many affixes are there in train, dev, test"
   ]
  },
  {
   "cell_type": "code",
   "execution_count": null,
   "id": "growing-buffalo",
   "metadata": {},
   "outputs": [],
   "source": [
    "from collections import Counter\n",
    "for fn in [train_fn, dev_fn, test_fn]:\n",
    "    cnt = Counter()\n",
    "    with open(fn) as fh:\n",
    "        for line in json.load(fh):\n",
    "            next_sen = False\n",
    "            if len(line[\"negations\"]) > 0:\n",
    "                for neg in line[\"negations\"]: \n",
    "                    for cue in neg[\"Cue\"][0]:\n",
    "                        if cue in prefixes or cue in suffixes:\n",
    "                            #print(fn, cue)\n",
    "                            #print(line)\n",
    "                            cnt[cue] += 1\n",
    "                            next_sen = True\n",
    "                            break\n",
    "                    if next_sen:\n",
    "                        break\n",
    "    print(cnt)"
   ]
  },
  {
   "cell_type": "markdown",
   "id": "accessible-hospital",
   "metadata": {},
   "source": [
    "#### Count all tyypes of cues"
   ]
  },
  {
   "cell_type": "code",
   "execution_count": null,
   "id": "spare-arbor",
   "metadata": {
    "scrolled": true
   },
   "outputs": [],
   "source": [
    "from collections import Counter\n",
    "cues = set()\n",
    "cs = []\n",
    "for fn in [train_fn, dev_fn, test_fn]:\n",
    "    cnt = Counter()\n",
    "    with open(fn) as fh:\n",
    "        for line in json.load(fh):\n",
    "            next_sen = False\n",
    "            if len(line[\"negations\"]) > 0:\n",
    "                for neg in line[\"negations\"]: \n",
    "                    for cue in neg[\"Cue\"][0]:\n",
    "                        cnt[(cue, neg[\"Affixal\"])] += 1\n",
    "                        next_sen = True\n",
    "                        break\n",
    "                    if next_sen:\n",
    "                        break\n",
    "    #print(set(cnt.keys()))\n",
    "    cs.append(cnt.keys())\n",
    "    cues.update(cnt.keys())"
   ]
  },
  {
   "cell_type": "markdown",
   "id": "funny-tucson",
   "metadata": {},
   "source": [
    "### When using pre-defined affixes these cues need to be saved"
   ]
  },
  {
   "cell_type": "code",
   "execution_count": null,
   "id": "tested-master",
   "metadata": {
    "scrolled": true
   },
   "outputs": [],
   "source": [
    "bad = []\n",
    "for fan, is_aff in cues:\n",
    "    pre = re.search(re.compile(\"^\" + \"|^\".join(prefixes)), fan)\n",
    "    suf = re.search(re.compile(\"$|\".join(suffixes) + \"$\"), fan)\n",
    "    x = \"_\"\n",
    "    y = \"_\"\n",
    "    if pre:\n",
    "        x = pre.group(0)\n",
    "        span = pre.span()\n",
    "        #print(fan, span, fan[span[1]:])\n",
    "    if suf:\n",
    "        y = suf.group(0)\n",
    "    #if not (x == \"_\" or y == \"_\"):\n",
    "    if is_aff and (suf or pre):\n",
    "        pass\n",
    "        #print(\"good boy: \", fan, x, y)\n",
    "    elif not is_aff and (suf or pre):\n",
    "        print(\"bad boy: \", fan, x, y)\n",
    "        bad.append(fan)"
   ]
  },
  {
   "cell_type": "markdown",
   "id": "sublime-simulation",
   "metadata": {},
   "source": [
    "### Which cues are present in Dev/Test but not Train"
   ]
  },
  {
   "cell_type": "code",
   "execution_count": null,
   "id": "flexible-laugh",
   "metadata": {},
   "outputs": [],
   "source": [
    "cs = [[x for x,_ in c] for c in cs]"
   ]
  },
  {
   "cell_type": "code",
   "execution_count": null,
   "id": "executive-explosion",
   "metadata": {},
   "outputs": [],
   "source": [
    "tr, de, te = cs\n",
    "tr = set(tr)\n",
    "de = set(de)\n",
    "te = set(te)"
   ]
  },
  {
   "cell_type": "markdown",
   "id": "capable-patrick",
   "metadata": {},
   "source": [
    "#### Dev but not train"
   ]
  },
  {
   "cell_type": "code",
   "execution_count": null,
   "id": "arbitrary-template",
   "metadata": {},
   "outputs": [],
   "source": [
    "de - tr"
   ]
  },
  {
   "cell_type": "markdown",
   "id": "formal-fence",
   "metadata": {},
   "source": [
    "#### Test but not train"
   ]
  },
  {
   "cell_type": "code",
   "execution_count": null,
   "id": "blessed-practitioner",
   "metadata": {},
   "outputs": [],
   "source": [
    "te - tr"
   ]
  },
  {
   "cell_type": "markdown",
   "id": "perceived-yemen",
   "metadata": {},
   "source": [
    "## Bug hunt\n",
    "\n",
    "Transforming the json- and point-to-root formats to starsem should yield the same results.\n",
    "It does not but why?"
   ]
  },
  {
   "cell_type": "code",
   "execution_count": null,
   "id": "lovely-parameter",
   "metadata": {},
   "outputs": [],
   "source": [
    "def get_neg_cols(s):\n",
    "    cols = []\n",
    "    for t in s:\n",
    "        nc = sorted([tuple(t[7:][i:i+3]) for i in range(0, len(t[7:]), 3)])\n",
    "        # print(nc)\n",
    "        cols.append(nc)\n",
    "    return cols"
   ]
  },
  {
   "cell_type": "code",
   "execution_count": null,
   "id": "distinguished-worcester",
   "metadata": {},
   "outputs": [],
   "source": [
    "def read_sen(lines):\n",
    "    ss = []\n",
    "    s = []\n",
    "    for line in lines:\n",
    "        line = line.strip().split(\"\\t\")\n",
    "        if len(line) <= 1:\n",
    "            ss.append(s)\n",
    "            s = []\n",
    "        else:\n",
    "            s.append(line)\n",
    "    return ss"
   ]
  },
  {
   "cell_type": "code",
   "execution_count": null,
   "id": "fossil-award",
   "metadata": {},
   "outputs": [],
   "source": [
    "def compare_starsems(ss1, ss2):\n",
    "    for s1, s2 in zip(ss1, ss2):\n",
    "        if len(s1[0]) > 8:\n",
    "            n1 = get_neg_cols(s1)\n",
    "            n2 = get_neg_cols(s2)\n",
    "            # print(n1, n2)\n",
    "            if n1 != n2:\n",
    "                for c1, c2 in zip(n1, n2):\n",
    "                    if c1 != c2:\n",
    "                        print(s1[0][1],c1, c2)\n",
    "                    pass"
   ]
  },
  {
   "cell_type": "markdown",
   "id": "stable-drive",
   "metadata": {},
   "source": [
    "### Differences between json and ptr for train, dev & test"
   ]
  },
  {
   "cell_type": "code",
   "execution_count": null,
   "id": "designing-technical",
   "metadata": {},
   "outputs": [],
   "source": [
    "for x in [\"train\", \"dev\", \"test\"]:\n",
    "    starsem = open(f\"neg_{x}.starsem\").readlines()\n",
    "    ptr = open(f\"ptr_{x}.starsem\").readlines()\n",
    "    ss1 = read_sen(starsem)\n",
    "    ss2 = read_sen(ptr)\n",
    "    print(x)\n",
    "    compare_starsems(ss1, ss2)\n",
    "    print()"
   ]
  },
  {
   "cell_type": "markdown",
   "id": "coordinated-forth",
   "metadata": {},
   "source": [
    "`\n",
    "train\n",
    "\n",
    "**affix is handled regularly in ptr but has an empty scope according to json**\n",
    "\n",
    "108182-03-05 [('u', '\\_', '\\_')] [('u', 'tvilsomt', '\\_')]\n",
    "\n",
    "101554-08-01 [('u', '\\_', '\\_')] [('u', 'trolig', '\\_')]\n",
    "\n",
    "701363-10-07 [('u', '\\_', '\\_')] [('u', 'musikalsk', '\\_')]\n",
    "\n",
    "003803-21-02 [('u', '\\_', '\\_')] [('u', 'påklagelig', '\\_')]\n",
    "\n",
    "200099-11-01 [('\\_', 'knappeløs', '\\_'), ('løs', '\\_', '\\_')] [('\\_', 'knappeløs', '\\_'), ('løs', 'knappe', '\\_')]\n",
    "\n",
    "**there is no whitespace in the string but the annotation in json fixes that (only in (cue/scope)**\n",
    "\n",
    "202043-05-01 [('Ikke', '\\_', '\\_')] [('skjermIkke', '\\_', '\\_')]\n",
    "\n",
    "202043-05-01 [('\\_', 'elegant', '\\_')] [('\\_', 'elegantKresent', '\\_')]\n",
    "\n",
    "**affix is handled regularly in ptr but has an empty scope according to json**\n",
    "\n",
    "301338-06-01 [('\\_', '\\_', '\\_'), ('\\_', '\\_', '\\_'), ('u', '\\_', '\\_')] [('\\_', '\\_', '\\_'), ('\\_', '\\_', '\\_'), ('u', \n",
    "'sikker', '\\_')]\n",
    "\n",
    "111141-01-01 [('løst', '\\_', '\\_')] [('løst', 'håp', '\\_')]\n",
    "\n",
    "\n",
    "dev\n",
    "\n",
    "**there is no whitespace in the string but the annotation in json fixes that (only in (cue/scope)**\n",
    "\n",
    "602282-02-03 [('\\_', 'det', '\\_')] [('\\_', 'det.Her', '\\_')]\n",
    "\n",
    "\n",
    "test\n",
    "\n",
    "**affix is handled regularly in ptr but has an empty scope according to json**\n",
    "\n",
    "301662-05-03 [('løs', '\\_', '\\_')] [('løs', 'kompromiss', '\\_')]`"
   ]
  }
 ],
 "metadata": {
  "kernelspec": {
   "display_name": "Python 3",
   "language": "python",
   "name": "python3"
  },
  "language_info": {
   "codemirror_mode": {
    "name": "ipython",
    "version": 3
   },
   "file_extension": ".py",
   "mimetype": "text/x-python",
   "name": "python",
   "nbconvert_exporter": "python",
   "pygments_lexer": "ipython3",
   "version": "3.8.5"
  }
 },
 "nbformat": 4,
 "nbformat_minor": 5
}
